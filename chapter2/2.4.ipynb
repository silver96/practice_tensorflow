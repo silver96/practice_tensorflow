{
 "cells": [
  {
   "cell_type": "code",
   "execution_count": 3,
   "id": "c25d40ae-caad-4e19-a57b-8843054cd195",
   "metadata": {},
   "outputs": [
    {
     "data": {
      "text/plain": [
       "<AxesSubplot:ylabel='output'>"
      ]
     },
     "execution_count": 3,
     "metadata": {},
     "output_type": "execute_result"
    },
    {
     "data": {
      "image/png": "[encoded data removed]",
      "text/plain": [
       "<Figure size 576x432 with 1 Axes>"
      ]
     },
     "metadata": {},
     "output_type": "display_data"
    }
   ],
   "source": [
    "# 1~6의 컬럼정보를 활용하여 7번째 컬럼 값을 예측하기\n",
    "import matplotlib.pyplot as plt\n",
    "import pandas as pd\n",
    "import numpy as np\n",
    "import tensorflow as tf\n",
    "\n",
    "import matplotlib.pyplot as pyplot\n",
    "\n",
    "import seaborn as sns\n",
    "sns.set(style='darkgrid')\n",
    "\n",
    "cols = ['price', 'maint', 'doors', 'persons', 'lug_capacity', 'safety','output']\n",
    "cars = pd.read_csv('./car_evaluation.csv', names=cols, header=None)\n",
    "\n",
    "plot_size = plt.rcParams['figure.figsize']\n",
    "plot_size[0] = 8\n",
    "plot_size[1] = 6\n",
    "plt.rcParams['figure.figsize'] = plot_size\n",
    "cars.output.value_counts().plot(kind='pie', autopct='%0.0f%%', colors=['lightblue',\n",
    "                                'lightgreen', 'orange', 'pink'], explode=(0.05, 0.05, 0.05, 0.05))"
   ]
  },
  {
   "cell_type": "code",
   "execution_count": 4,
   "id": "e9feeef5-3986-46d6-bac9-eb991310bc68",
   "metadata": {},
   "outputs": [
    {
     "data": {
      "text/html": [
       "<div>\n",
       "<style scoped>\n",
       "    .dataframe tbody tr th:only-of-type {\n",
       "        vertical-align: middle;\n",
       "    }\n",
       "\n",
       "    .dataframe tbody tr th {\n",
       "        vertical-align: top;\n",
       "    }\n",
       "\n",
       "    .dataframe thead th {\n",
       "        text-align: right;\n",
       "    }\n",
       "</style>\n",
       "<table border=\"1\" class=\"dataframe\">\n",
       "  <thead>\n",
       "    <tr style=\"text-align: right;\">\n",
       "      <th></th>\n",
       "      <th>price</th>\n",
       "      <th>maint</th>\n",
       "      <th>doors</th>\n",
       "      <th>persons</th>\n",
       "      <th>lug_capacity</th>\n",
       "      <th>safety</th>\n",
       "      <th>output</th>\n",
       "    </tr>\n",
       "  </thead>\n",
       "  <tbody>\n",
       "    <tr>\n",
       "      <th>0</th>\n",
       "      <td>vhigh</td>\n",
       "      <td>vhigh</td>\n",
       "      <td>2</td>\n",
       "      <td>2</td>\n",
       "      <td>small</td>\n",
       "      <td>low</td>\n",
       "      <td>unacc</td>\n",
       "    </tr>\n",
       "    <tr>\n",
       "      <th>1</th>\n",
       "      <td>vhigh</td>\n",
       "      <td>vhigh</td>\n",
       "      <td>2</td>\n",
       "      <td>2</td>\n",
       "      <td>small</td>\n",
       "      <td>med</td>\n",
       "      <td>unacc</td>\n",
       "    </tr>\n",
       "    <tr>\n",
       "      <th>2</th>\n",
       "      <td>vhigh</td>\n",
       "      <td>vhigh</td>\n",
       "      <td>2</td>\n",
       "      <td>2</td>\n",
       "      <td>small</td>\n",
       "      <td>high</td>\n",
       "      <td>unacc</td>\n",
       "    </tr>\n",
       "    <tr>\n",
       "      <th>3</th>\n",
       "      <td>vhigh</td>\n",
       "      <td>vhigh</td>\n",
       "      <td>2</td>\n",
       "      <td>2</td>\n",
       "      <td>med</td>\n",
       "      <td>low</td>\n",
       "      <td>unacc</td>\n",
       "    </tr>\n",
       "    <tr>\n",
       "      <th>4</th>\n",
       "      <td>vhigh</td>\n",
       "      <td>vhigh</td>\n",
       "      <td>2</td>\n",
       "      <td>2</td>\n",
       "      <td>med</td>\n",
       "      <td>med</td>\n",
       "      <td>unacc</td>\n",
       "    </tr>\n",
       "  </tbody>\n",
       "</table>\n",
       "</div>"
      ],
      "text/plain": [
       "   price  maint doors persons lug_capacity safety output\n",
       "0  vhigh  vhigh     2       2        small    low  unacc\n",
       "1  vhigh  vhigh     2       2        small    med  unacc\n",
       "2  vhigh  vhigh     2       2        small   high  unacc\n",
       "3  vhigh  vhigh     2       2          med    low  unacc\n",
       "4  vhigh  vhigh     2       2          med    med  unacc"
      ]
     },
     "execution_count": 4,
     "metadata": {},
     "output_type": "execute_result"
    }
   ],
   "source": [
    "cars.head()"
   ]
  },
  {
   "cell_type": "code",
   "execution_count": 13,
   "id": "06c6b5d8-8930-44a6-bc8f-e40d9749c550",
   "metadata": {},
   "outputs": [
    {
     "name": "stdout",
     "output_type": "stream",
     "text": [
      "['vhigh' 'high' 'med' 'low']\n",
      "Empty DataFrame\n",
      "Columns: [price, maint, doors, persons, lug_capacity, safety, output]\n",
      "Index: []\n"
     ]
    }
   ],
   "source": [
    "print(cars.price.unique())\n",
    "print(cars[cars.price.isnull()==True])"
   ]
  },
  {
   "cell_type": "code",
   "execution_count": 21,
   "id": "113cfb0b-453d-4e92-9d2b-ded3f5f05e02",
   "metadata": {
    "tags": []
   },
   "outputs": [],
   "source": [
    "#각 항목값을 컬럼으로 하여 가변수 만들어줌\n",
    "price = pd.get_dummies(cars.price, prefix='price')\n",
    "# print(price.head())\n",
    "# print(price.info())\n",
    "\n",
    "maint = pd.get_dummies(cars.maint, prefix='maint')\n",
    "# print(maint.head())\n",
    "# print(maint.head())\n",
    "\n",
    "doors = pd.get_dummies(cars.doors, prefix='doors')\n",
    "# print(doors.head())\n",
    "# print(doors.info())\n",
    "\n",
    "persons = pd.get_dummies(cars.persons, prefix='persons')\n",
    "# print(persons.head())\n",
    "# print(persons.head())\n",
    "\n",
    "lug_capacity = pd.get_dummies(cars.lug_capacity, prefix='lug_capacity') \n",
    "# print(lug_capacity.head())\n",
    "# print(lug_capacity.info())\n",
    "\n",
    "safety = pd.get_dummies(cars.safety, prefix='safety')\n",
    "# print(safety.head())\n",
    "# print(safety.info())\n",
    "\n",
    "labels = pd.get_dummies(cars.output, prefix='condition')\n",
    "# print(labels.head())\n",
    "# print(labels.info())"
   ]
  },
  {
   "cell_type": "code",
   "execution_count": 25,
   "id": "fdc32ae0-fef3-4a84-a92e-aa55eff9013a",
   "metadata": {},
   "outputs": [
    {
     "name": "stdout",
     "output_type": "stream",
     "text": [
      "[[0 0 1 0]\n",
      " [0 0 1 0]\n",
      " [0 0 1 0]\n",
      " ...\n",
      " [0 0 1 0]\n",
      " [0 1 0 0]\n",
      " [0 0 0 1]]\n"
     ]
    }
   ],
   "source": [
    "#열단위로 컬럼 결합\n",
    "x = pd.concat([price, maint, doors, persons, lug_capacity, safety], axis=1)\n",
    "y = labels.values\n",
    "print(y)"
   ]
  },
  {
   "cell_type": "code",
   "execution_count": 28,
   "id": "b715af41-f735-4332-ace7-9d86d1f0407d",
   "metadata": {},
   "outputs": [],
   "source": [
    "from sklearn.model_selection import train_test_split\n",
    "\n",
    "#random_state: 데이터셋을 섞을 때 참조하는 값, random_state를 고정해야만 매번 데이터셋이 변경되는 것을 방지\n",
    "x_train, x_test, y_train, y_test = train_test_split(x, y, test_size=0.2, random_state=42)"
   ]
  },
  {
   "cell_type": "code",
   "execution_count": 41,
   "id": "281908e8-3233-4dfc-97ba-07a960843901",
   "metadata": {},
   "outputs": [
    {
     "name": "stdout",
     "output_type": "stream",
     "text": [
      "Model: \"model_4\"\n",
      "_________________________________________________________________\n",
      "Layer (type)                 Output Shape              Param #   \n",
      "=================================================================\n",
      "input_5 (InputLayer)         [(None, 21)]              0         \n",
      "_________________________________________________________________\n",
      "dense_12 (Dense)             (None, 15)                330       \n",
      "_________________________________________________________________\n",
      "dense_13 (Dense)             (None, 15)                240       \n",
      "_________________________________________________________________\n",
      "dense_14 (Dense)             (None, 4)                 64        \n",
      "=================================================================\n",
      "Total params: 634\n",
      "Trainable params: 634\n",
      "Non-trainable params: 0\n",
      "_________________________________________________________________\n"
     ]
    }
   ],
   "source": [
    "from tensorflow.keras.layers import Input, Dense, Activation, Dropout\n",
    "from tensorflow.keras.models import Model\n",
    "\n",
    "input_layer = Input(shape=(x.shape[1],))\n",
    "dense_layer_1 = Dense(15, activation='relu')(input_layer) #활성화 함수로 relu 사용\n",
    "dense_layer_2 = Dense(15, activation='relu')(dense_layer_1) #총 2층의 신경망으로 구성\n",
    "output = Dense(y.shape[1], activation='softmax')(dense_layer_2) #마지막층은 대부분 활성화함수 softmax 사용\n",
    "\n",
    "model = Model(inputs=input_layer, outputs=output)\n",
    "\n",
    "#딥러닝 모델은 손실비용을 최소화하는 방향으로 학습 -> 이때 손실비용을 측정하는 함수가 categorical_crossentropy\n",
    "#모델에 사용되는 파라미터 최적화하도록를 업데이트 하는 함수가 adam\n",
    "#모델 성능을 평가하는 지표: 정확도, 재현율, 정밀도, f1-score 사용\n",
    "model.compile(loss='categorical_crossentropy', optimizer='adam', metrics=['acc'])\n",
    "\n",
    "model.summary()"
   ]
  },
  {
   "cell_type": "code",
   "execution_count": 42,
   "id": "d6508de2-83e2-42bf-853d-d27670b9f618",
   "metadata": {},
   "outputs": [
    {
     "name": "stdout",
     "output_type": "stream",
     "text": [
      "WARNING:tensorflow:Falling back from v2 loop because of error: Failed to find data adapter that can handle input: <class 'pandas.core.frame.DataFrame'>, <class 'NoneType'>\n",
      "Train on 1105 samples, validate on 277 samples\n",
      "Epoch 1/50\n",
      "1105/1105 [==============================] - 1s 533us/sample - loss: 1.0646 - acc: 0.6371 - val_loss: 0.9483 - val_acc: 0.6498\n",
      "Epoch 2/50\n",
      "1105/1105 [==============================] - 0s 165us/sample - loss: 0.6748 - acc: 0.7348 - val_loss: 0.7138 - val_acc: 0.6787\n",
      "Epoch 3/50\n",
      "1105/1105 [==============================] - 0s 166us/sample - loss: 0.4837 - acc: 0.8100 - val_loss: 0.5319 - val_acc: 0.8087\n",
      "Epoch 4/50\n",
      "1105/1105 [==============================] - 0s 170us/sample - loss: 0.3623 - acc: 0.8769 - val_loss: 0.4228 - val_acc: 0.8231\n",
      "Epoch 5/50\n",
      "1105/1105 [==============================] - 0s 168us/sample - loss: 0.2932 - acc: 0.8896 - val_loss: 0.3588 - val_acc: 0.8520\n",
      "Epoch 6/50\n",
      "1105/1105 [==============================] - 0s 164us/sample - loss: 0.2497 - acc: 0.8959 - val_loss: 0.3263 - val_acc: 0.8484\n",
      "Epoch 7/50\n",
      "1105/1105 [==============================] - 0s 163us/sample - loss: 0.2193 - acc: 0.9140 - val_loss: 0.2915 - val_acc: 0.8736\n",
      "Epoch 8/50\n",
      "1105/1105 [==============================] - 0s 165us/sample - loss: 0.1951 - acc: 0.9258 - val_loss: 0.2675 - val_acc: 0.8773\n",
      "Epoch 9/50\n",
      "1105/1105 [==============================] - 0s 168us/sample - loss: 0.1756 - acc: 0.9367 - val_loss: 0.2392 - val_acc: 0.8989\n",
      "Epoch 10/50\n",
      "1105/1105 [==============================] - 0s 163us/sample - loss: 0.1603 - acc: 0.9475 - val_loss: 0.2148 - val_acc: 0.9170\n",
      "Epoch 11/50\n",
      "1105/1105 [==============================] - 0s 163us/sample - loss: 0.1468 - acc: 0.9548 - val_loss: 0.2108 - val_acc: 0.9170\n",
      "Epoch 12/50\n",
      "1105/1105 [==============================] - 0s 165us/sample - loss: 0.1333 - acc: 0.9602 - val_loss: 0.1989 - val_acc: 0.9206\n",
      "Epoch 13/50\n",
      "1105/1105 [==============================] - 0s 166us/sample - loss: 0.1223 - acc: 0.9638 - val_loss: 0.1817 - val_acc: 0.9314\n",
      "Epoch 14/50\n",
      "1105/1105 [==============================] - 0s 165us/sample - loss: 0.1126 - acc: 0.9665 - val_loss: 0.1825 - val_acc: 0.9314\n",
      "Epoch 15/50\n",
      "1105/1105 [==============================] - 0s 164us/sample - loss: 0.1053 - acc: 0.9683 - val_loss: 0.1598 - val_acc: 0.9458\n",
      "Epoch 16/50\n",
      "1105/1105 [==============================] - 0s 165us/sample - loss: 0.0976 - acc: 0.9738 - val_loss: 0.1523 - val_acc: 0.9458\n",
      "Epoch 17/50\n",
      "1105/1105 [==============================] - 0s 166us/sample - loss: 0.0905 - acc: 0.9747 - val_loss: 0.1417 - val_acc: 0.9567\n",
      "Epoch 18/50\n",
      "1105/1105 [==============================] - 0s 166us/sample - loss: 0.0839 - acc: 0.9774 - val_loss: 0.1430 - val_acc: 0.9386\n",
      "Epoch 19/50\n",
      "1105/1105 [==============================] - 0s 165us/sample - loss: 0.0806 - acc: 0.9801 - val_loss: 0.1401 - val_acc: 0.9422\n",
      "Epoch 20/50\n",
      "1105/1105 [==============================] - 0s 183us/sample - loss: 0.0775 - acc: 0.9792 - val_loss: 0.1391 - val_acc: 0.9350\n",
      "Epoch 21/50\n",
      "1105/1105 [==============================] - 0s 189us/sample - loss: 0.0727 - acc: 0.9837 - val_loss: 0.1313 - val_acc: 0.9458\n",
      "Epoch 22/50\n",
      "1105/1105 [==============================] - 0s 165us/sample - loss: 0.0689 - acc: 0.9810 - val_loss: 0.1250 - val_acc: 0.9495\n",
      "Epoch 23/50\n",
      "1105/1105 [==============================] - 0s 165us/sample - loss: 0.0638 - acc: 0.9837 - val_loss: 0.1162 - val_acc: 0.9603\n",
      "Epoch 24/50\n",
      "1105/1105 [==============================] - 0s 170us/sample - loss: 0.0615 - acc: 0.9846 - val_loss: 0.1123 - val_acc: 0.9603\n",
      "Epoch 25/50\n",
      "1105/1105 [==============================] - 0s 167us/sample - loss: 0.0576 - acc: 0.9873 - val_loss: 0.1184 - val_acc: 0.9386\n",
      "Epoch 26/50\n",
      "1105/1105 [==============================] - 0s 165us/sample - loss: 0.0554 - acc: 0.9864 - val_loss: 0.1192 - val_acc: 0.9458\n",
      "Epoch 27/50\n",
      "1105/1105 [==============================] - 0s 167us/sample - loss: 0.0594 - acc: 0.9801 - val_loss: 0.1070 - val_acc: 0.9603\n",
      "Epoch 28/50\n",
      "1105/1105 [==============================] - 0s 167us/sample - loss: 0.0516 - acc: 0.9855 - val_loss: 0.1047 - val_acc: 0.9567\n",
      "Epoch 29/50\n",
      "1105/1105 [==============================] - 0s 165us/sample - loss: 0.0469 - acc: 0.9882 - val_loss: 0.1033 - val_acc: 0.9531\n",
      "Epoch 30/50\n",
      "1105/1105 [==============================] - 0s 171us/sample - loss: 0.0479 - acc: 0.9873 - val_loss: 0.0984 - val_acc: 0.9639\n",
      "Epoch 31/50\n",
      "1105/1105 [==============================] - 0s 169us/sample - loss: 0.0445 - acc: 0.9855 - val_loss: 0.0998 - val_acc: 0.9603\n",
      "Epoch 32/50\n",
      "1105/1105 [==============================] - 0s 183us/sample - loss: 0.0428 - acc: 0.9900 - val_loss: 0.1021 - val_acc: 0.9531\n",
      "Epoch 33/50\n",
      "1105/1105 [==============================] - 0s 175us/sample - loss: 0.0390 - acc: 0.9900 - val_loss: 0.1021 - val_acc: 0.9639\n",
      "Epoch 34/50\n",
      "1105/1105 [==============================] - 0s 167us/sample - loss: 0.0384 - acc: 0.9937 - val_loss: 0.0876 - val_acc: 0.9711\n",
      "Epoch 35/50\n",
      "1105/1105 [==============================] - 0s 169us/sample - loss: 0.0369 - acc: 0.9910 - val_loss: 0.1043 - val_acc: 0.9495\n",
      "Epoch 36/50\n",
      "1105/1105 [==============================] - 0s 174us/sample - loss: 0.0338 - acc: 0.9910 - val_loss: 0.0919 - val_acc: 0.9639\n",
      "Epoch 37/50\n",
      "1105/1105 [==============================] - 0s 174us/sample - loss: 0.0320 - acc: 0.9955 - val_loss: 0.1061 - val_acc: 0.9495\n",
      "Epoch 38/50\n",
      "1105/1105 [==============================] - 0s 172us/sample - loss: 0.0328 - acc: 0.9919 - val_loss: 0.1178 - val_acc: 0.9422\n",
      "Epoch 39/50\n",
      "1105/1105 [==============================] - 0s 168us/sample - loss: 0.0348 - acc: 0.9900 - val_loss: 0.0939 - val_acc: 0.9639\n",
      "Epoch 40/50\n",
      "1105/1105 [==============================] - 0s 176us/sample - loss: 0.0289 - acc: 0.9964 - val_loss: 0.0761 - val_acc: 0.9819\n",
      "Epoch 41/50\n",
      "1105/1105 [==============================] - 0s 167us/sample - loss: 0.0268 - acc: 0.9964 - val_loss: 0.0835 - val_acc: 0.9639\n",
      "Epoch 42/50\n",
      "1105/1105 [==============================] - 0s 166us/sample - loss: 0.0258 - acc: 0.9946 - val_loss: 0.0889 - val_acc: 0.9639\n",
      "Epoch 43/50\n",
      "1105/1105 [==============================] - 0s 170us/sample - loss: 0.0274 - acc: 0.9928 - val_loss: 0.0949 - val_acc: 0.9603\n",
      "Epoch 44/50\n",
      "1105/1105 [==============================] - 0s 169us/sample - loss: 0.0241 - acc: 0.9937 - val_loss: 0.0935 - val_acc: 0.9567\n",
      "Epoch 45/50\n",
      "1105/1105 [==============================] - 0s 168us/sample - loss: 0.0233 - acc: 0.9946 - val_loss: 0.0872 - val_acc: 0.9675\n",
      "Epoch 46/50\n",
      "1105/1105 [==============================] - 0s 183us/sample - loss: 0.0216 - acc: 0.9973 - val_loss: 0.0944 - val_acc: 0.9495\n",
      "Epoch 47/50\n",
      "1105/1105 [==============================] - 0s 168us/sample - loss: 0.0213 - acc: 0.9973 - val_loss: 0.0912 - val_acc: 0.9603\n",
      "Epoch 48/50\n",
      "1105/1105 [==============================] - 0s 168us/sample - loss: 0.0198 - acc: 0.9973 - val_loss: 0.0918 - val_acc: 0.9639\n",
      "Epoch 49/50\n",
      "1105/1105 [==============================] - 0s 169us/sample - loss: 0.0194 - acc: 0.9982 - val_loss: 0.0868 - val_acc: 0.9639\n",
      "Epoch 50/50\n",
      "1105/1105 [==============================] - 0s 175us/sample - loss: 0.0180 - acc: 0.9964 - val_loss: 0.0786 - val_acc: 0.9747\n"
     ]
    }
   ],
   "source": [
    "#x_train: 학습의 인자값\n",
    "#y_train: 학습의 정답 데이터\n",
    "#batch_size: 모델을 가중치를 한 번 업데이트 할 때 사용되는 데이터 묶음 단위 (총 데이터 수 / batch_size 만큼 가중치 업데이트 )\n",
    "#epoch: 총 학습 횟수\n",
    "#validation_split: 전체 학습 데이터셋의 20%는 각 학습 epoch의 평가 데이터셋으로 활용\n",
    "history = model.fit(x_train, y_train, batch_size=8, epochs=50, verbose=1,\n",
    "                   validation_split=0.2, use_multiprocessing=2)"
   ]
  },
  {
   "cell_type": "code",
   "execution_count": 45,
   "id": "0bcb1a2b-1bf3-444d-8089-d1acc6fbd542",
   "metadata": {},
   "outputs": [
    {
     "name": "stdout",
     "output_type": "stream",
     "text": [
      "WARNING:tensorflow:Falling back from v2 loop because of error: Failed to find data adapter that can handle input: <class 'pandas.core.frame.DataFrame'>, <class 'NoneType'>\n",
      "346/346 [==============================] - 0s 60us/sample - loss: 0.0879 - acc: 0.9624\n",
      "0.08788719349890689\n",
      "0.96242774\n"
     ]
    }
   ],
   "source": [
    "#verbose: 함수 수행시 발생하는 상세한 정보들을 출력할 것인지 여부\n",
    "#보통 0: 출력X, 1: 자세히, 2:함축정보\n",
    "score = model.evaluate(x_test, y_test, verbose=1)\n",
    "print('test score:', score[0])\n",
    "print('test accuracy:', score[1])"
   ]
  }
 ],
 "metadata": {
  "kernelspec": {
   "display_name": "Python 3 (ipykernel)",
   "language": "python",
   "name": "python3"
  },
  "language_info": {
   "codemirror_mode": {
    "name": "ipython",
    "version": 3
   },
   "file_extension": ".py",
   "mimetype": "text/x-python",
   "name": "python",
   "nbconvert_exporter": "python",
   "pygments_lexer": "ipython3",
   "version": "3.7.11"
  }
 },
 "nbformat": 4,
 "nbformat_minor": 5
}
