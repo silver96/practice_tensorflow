{
 "cells": [
  {
   "cell_type": "code",
   "execution_count": 8,
   "id": "09125de4-f273-4b23-8e2f-b70090c85d76",
   "metadata": {},
   "outputs": [],
   "source": [
    "from sklearn.svm import SVC\n",
    "from sklearn import metrics\n",
    "from sklearn import datasets\n",
    "from sklearn import model_selection\n",
    "import tensorflow as tf\n",
    "import os\n",
    "#TF_CPP_MIN_LOG_LEVEL 로깅제어(default=0: 모든 에러 표시)\n",
    "#1: info 로그 필터링\n",
    "#2: warning 로그 필터링\n",
    "#3: error로그 필터링\n",
    "os.environ['TF_CPP_MIN_LOG_LEVEL']='3'"
   ]
  },
  {
   "cell_type": "code",
   "execution_count": 13,
   "id": "a5361abb-c48c-478e-9626-e5b93cb60dbb",
   "metadata": {},
   "outputs": [],
   "source": [
    "iris = datasets.load_iris()\n",
    "x_train, x_test, y_train, y_test = model_selection.train_test_split(iris.data,\n",
    "                                                                    iris.target,\n",
    "                                                                   test_size=0.6,\n",
    "                                                                   random_state=42)"
   ]
  },
  {
   "cell_type": "code",
   "execution_count": null,
   "id": "e5d41187-878f-4b83-968b-7ac65248f25f",
   "metadata": {},
   "outputs": [],
   "source": [
    "#마진: 결정경계와 서포트벡터사이의 거리\n",
    "#서포트벡터머신: 데이터를 잘 분리하면서 마진을 최대화 할수록 좋은 모델\n",
    "#하드 마진: 이상치를 허용하지 않음\n",
    "#소프트 마진: 어느정도의 이상치 허용"
   ]
  },
  {
   "cell_type": "code",
   "execution_count": 14,
   "id": "cd1bf0f3-1deb-441b-8845-c29a56ca5fd7",
   "metadata": {},
   "outputs": [
    {
     "name": "stdout",
     "output_type": "stream",
     "text": [
      "정확도:0.988889\n"
     ]
    }
   ],
   "source": [
    "#C: 커널의 오류를 얼마나 허용할지 결정하는 지수(c가 크면 hardmargin, 작은면 softmargin)\n",
    "#gamma: 결정 경계를 얼마나 유ㄴ하게 가져갈지(클수록 훈련데이터에 많이 의존하며 유연한 형태를 띈다) -> 너무 유연하면 과적합 발생\n",
    "svm = SVC(kernel ='linear', C=1.0, gamma=0.5, probability=True)\n",
    "svm.fit(x_train, y_train)\n",
    "predictions = svm.predict(x_test)\n",
    "score = metrics.accuracy_score(y_test, predictions)\n",
    "print('정확도:{0:f}'.format(score))"
   ]
  }
 ],
 "metadata": {
  "kernelspec": {
   "display_name": "Python 3 (ipykernel)",
   "language": "python",
   "name": "python3"
  },
  "language_info": {
   "codemirror_mode": {
    "name": "ipython",
    "version": 3
   },
   "file_extension": ".py",
   "mimetype": "text/x-python",
   "name": "python",
   "nbconvert_exporter": "python",
   "pygments_lexer": "ipython3",
   "version": "3.7.11"
  }
 },
 "nbformat": 4,
 "nbformat_minor": 5
}
