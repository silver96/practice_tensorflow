{
 "cells": [
  {
   "cell_type": "raw",
   "id": "3a7f7d95-e2bd-4a7e-ac67-7f3ae610af7a",
   "metadata": {},
   "source": [
    "KNN vs K-means\n",
    "- KNN(지도): 최근접 이웃 클러스터링을 참조하여 자기 자신의 클래스 결정\n",
    "- K-means(비지도): 데이터를 k개의 클러스터로 군집화"
   ]
  },
  {
   "cell_type": "raw",
   "id": "d5f841eb-ec7a-45b0-94c0-18b63945dd7a",
   "metadata": {},
   "source": [
    "비지도학습_K_평균군집화\n",
    "주어진 데이터셋을 이용해 몇개의 클러스터를 구성할지 사전에 아는 경우 사용하면 유용\n",
    "k값에 따라 모델 성능이 달라짐"
   ]
  },
  {
   "cell_type": "raw",
   "id": "67f0d21b-13bf-4265-bf34-6e3de89ac3b2",
   "metadata": {},
   "source": [
    "학습과정\n",
    "1. 중심점 선택: 랜덤하게 초기 중심점 선택\n",
    "2. 클러스터 할당: k개의 중심점과 각각의 개별 데이터 간의 거리를 측정 후, 가장 가까운 중심점을 기준으로 데이터 할당\n",
    "3. 새로운 중심점 선택: 클러스터마다 새로운 중심점 계산\n",
    "4. 범위 확인: 선택된 중심점에 더이상 변화가 없다면 중단"
   ]
  },
  {
   "cell_type": "raw",
   "id": "05654d2d-783e-4bb4-ae09-b7aecba5520f",
   "metadata": {},
   "source": [
    "다음 상황에서는 사용하지 않는 것이 좋음\n",
    "1. 데이터가 비선형\n",
    "2. 군집 크기가 다를 때\n",
    "3. 군집마다 밀도와 거리가 다를 때"
   ]
  },
  {
   "cell_type": "raw",
   "id": "1ea4bd79-fe75-4918-b541-7e380c4b4fdf",
   "metadata": {},
   "source": [
    "- centroid: 클러스터별 하나의 점(데이터의 평균값을 이용)\n",
    "- clustroid: 클러스터 내 점들과 가장 가까운 점(데이터셋에 있는 좌표)"
   ]
  },
  {
   "cell_type": "raw",
   "id": "8bc64cf0-3d96-4d64-b4a9-2b65f6f2b512",
   "metadata": {},
   "source": [
    "k-means 클러스터링에는 엘보우기법, 실루엣기법 두가지로 존재\n",
    "- 엘보우 기법: 클러스터 개수를 늘렸을 때 centroid 간의 평균 거리가 더 이상 많이 감소하지 않는 경우의 K를 선택하는 방법\n",
    "    개수가 늘 때마다 평균값이 급격히 감소하는데 적절한 K가 발견되면 매우 천천히 감소\n",
    "- 실루엣 기법: 각 데이터의 실루엣 계수를 계산한다. 클러스터의 개수가 최적화되어 있으면 실루엣 계수는 1에 가까운 값이 된다.\n",
    "    실루엣 계수의 평균이 0.7보다 크면 잘 분류\n",
    "    엘보우 기법에 비해 계산하는데 시간이 오래 소요"
   ]
  },
  {
   "cell_type": "raw",
   "id": "6d2232fa-f4c6-4039-8e86-68805bbd0d0f",
   "metadata": {},
   "source": [
    "k가 증가하면 각 샘플이 자체 클러스터를 형성하며 거리제곱합이 0과 같아지는 경향이 됨 -> 거리제곱합이 작은 적절한 k를 선택해야함"
   ]
  },
  {
   "cell_type": "code",
   "execution_count": 2,
   "id": "e2d53cac-d5fa-4a89-94e7-3ff1c24144a3",
   "metadata": {},
   "outputs": [],
   "source": [
    "import pandas as pd\n",
    "from sklearn.preprocessing import MinMaxScaler\n",
    "from sklearn.cluster import KMeans\n",
    "import matplotlib.pyplot as plt"
   ]
  },
  {
   "cell_type": "code",
   "execution_count": 3,
   "id": "68188339-a7dc-4cc1-9ece-9bb869d3f399",
   "metadata": {},
   "outputs": [
    {
     "data": {
      "text/html": [
       "<div>\n",
       "<style scoped>\n",
       "    .dataframe tbody tr th:only-of-type {\n",
       "        vertical-align: middle;\n",
       "    }\n",
       "\n",
       "    .dataframe tbody tr th {\n",
       "        vertical-align: top;\n",
       "    }\n",
       "\n",
       "    .dataframe thead th {\n",
       "        text-align: right;\n",
       "    }\n",
       "</style>\n",
       "<table border=\"1\" class=\"dataframe\">\n",
       "  <thead>\n",
       "    <tr style=\"text-align: right;\">\n",
       "      <th></th>\n",
       "      <th>Channel</th>\n",
       "      <th>Region</th>\n",
       "      <th>Fresh</th>\n",
       "      <th>Milk</th>\n",
       "      <th>Grocery</th>\n",
       "      <th>Frozen</th>\n",
       "      <th>Detergents_Paper</th>\n",
       "      <th>Delicassen</th>\n",
       "    </tr>\n",
       "  </thead>\n",
       "  <tbody>\n",
       "    <tr>\n",
       "      <th>0</th>\n",
       "      <td>2</td>\n",
       "      <td>3</td>\n",
       "      <td>12669</td>\n",
       "      <td>9656</td>\n",
       "      <td>7561</td>\n",
       "      <td>214</td>\n",
       "      <td>2674</td>\n",
       "      <td>1338</td>\n",
       "    </tr>\n",
       "    <tr>\n",
       "      <th>1</th>\n",
       "      <td>2</td>\n",
       "      <td>3</td>\n",
       "      <td>7057</td>\n",
       "      <td>9810</td>\n",
       "      <td>9568</td>\n",
       "      <td>1762</td>\n",
       "      <td>3293</td>\n",
       "      <td>1776</td>\n",
       "    </tr>\n",
       "    <tr>\n",
       "      <th>2</th>\n",
       "      <td>2</td>\n",
       "      <td>3</td>\n",
       "      <td>6353</td>\n",
       "      <td>8808</td>\n",
       "      <td>7684</td>\n",
       "      <td>2405</td>\n",
       "      <td>3516</td>\n",
       "      <td>7844</td>\n",
       "    </tr>\n",
       "    <tr>\n",
       "      <th>3</th>\n",
       "      <td>1</td>\n",
       "      <td>3</td>\n",
       "      <td>13265</td>\n",
       "      <td>1196</td>\n",
       "      <td>4221</td>\n",
       "      <td>6404</td>\n",
       "      <td>507</td>\n",
       "      <td>1788</td>\n",
       "    </tr>\n",
       "    <tr>\n",
       "      <th>4</th>\n",
       "      <td>2</td>\n",
       "      <td>3</td>\n",
       "      <td>22615</td>\n",
       "      <td>5410</td>\n",
       "      <td>7198</td>\n",
       "      <td>3915</td>\n",
       "      <td>1777</td>\n",
       "      <td>5185</td>\n",
       "    </tr>\n",
       "  </tbody>\n",
       "</table>\n",
       "</div>"
      ],
      "text/plain": [
       "   Channel  Region  Fresh  Milk  Grocery  Frozen  Detergents_Paper  Delicassen\n",
       "0        2       3  12669  9656     7561     214              2674        1338\n",
       "1        2       3   7057  9810     9568    1762              3293        1776\n",
       "2        2       3   6353  8808     7684    2405              3516        7844\n",
       "3        1       3  13265  1196     4221    6404               507        1788\n",
       "4        2       3  22615  5410     7198    3915              1777        5185"
      ]
     },
     "execution_count": 3,
     "metadata": {},
     "output_type": "execute_result"
    }
   ],
   "source": [
    "df = pd.read_csv('./data/sales data.csv')\n",
    "df.head()"
   ]
  },
  {
   "cell_type": "code",
   "execution_count": 4,
   "id": "dc507f4f-0949-4e0b-aa29-4e137e056e28",
   "metadata": {},
   "outputs": [],
   "source": [
    "#명목형 변수: 범주 간에 순서 의미가 없는 자료(혈액형, 지역 등)\n",
    "categorical_features = ['Channel', 'Region'] \n",
    "#연속형 자료: 값이 연속적인 자료(키, 몸무게 등)\n",
    "continious_features = ['Fresh','Milk','Grocery','Frozen','Detergents_Paper','Delicassen']"
   ]
  },
  {
   "cell_type": "code",
   "execution_count": 6,
   "id": "a8caddbc-1962-4975-b4e9-f4895a452c35",
   "metadata": {},
   "outputs": [
    {
     "data": {
      "text/html": [
       "<div>\n",
       "<style scoped>\n",
       "    .dataframe tbody tr th:only-of-type {\n",
       "        vertical-align: middle;\n",
       "    }\n",
       "\n",
       "    .dataframe tbody tr th {\n",
       "        vertical-align: top;\n",
       "    }\n",
       "\n",
       "    .dataframe thead th {\n",
       "        text-align: right;\n",
       "    }\n",
       "</style>\n",
       "<table border=\"1\" class=\"dataframe\">\n",
       "  <thead>\n",
       "    <tr style=\"text-align: right;\">\n",
       "      <th></th>\n",
       "      <th>Fresh</th>\n",
       "      <th>Milk</th>\n",
       "      <th>Grocery</th>\n",
       "      <th>Frozen</th>\n",
       "      <th>Detergents_Paper</th>\n",
       "      <th>Delicassen</th>\n",
       "      <th>Channel_1</th>\n",
       "      <th>Channel_2</th>\n",
       "      <th>Region_1</th>\n",
       "      <th>Region_2</th>\n",
       "      <th>Region_3</th>\n",
       "    </tr>\n",
       "  </thead>\n",
       "  <tbody>\n",
       "    <tr>\n",
       "      <th>0</th>\n",
       "      <td>12669</td>\n",
       "      <td>9656</td>\n",
       "      <td>7561</td>\n",
       "      <td>214</td>\n",
       "      <td>2674</td>\n",
       "      <td>1338</td>\n",
       "      <td>0</td>\n",
       "      <td>1</td>\n",
       "      <td>0</td>\n",
       "      <td>0</td>\n",
       "      <td>1</td>\n",
       "    </tr>\n",
       "    <tr>\n",
       "      <th>1</th>\n",
       "      <td>7057</td>\n",
       "      <td>9810</td>\n",
       "      <td>9568</td>\n",
       "      <td>1762</td>\n",
       "      <td>3293</td>\n",
       "      <td>1776</td>\n",
       "      <td>0</td>\n",
       "      <td>1</td>\n",
       "      <td>0</td>\n",
       "      <td>0</td>\n",
       "      <td>1</td>\n",
       "    </tr>\n",
       "    <tr>\n",
       "      <th>2</th>\n",
       "      <td>6353</td>\n",
       "      <td>8808</td>\n",
       "      <td>7684</td>\n",
       "      <td>2405</td>\n",
       "      <td>3516</td>\n",
       "      <td>7844</td>\n",
       "      <td>0</td>\n",
       "      <td>1</td>\n",
       "      <td>0</td>\n",
       "      <td>0</td>\n",
       "      <td>1</td>\n",
       "    </tr>\n",
       "    <tr>\n",
       "      <th>3</th>\n",
       "      <td>13265</td>\n",
       "      <td>1196</td>\n",
       "      <td>4221</td>\n",
       "      <td>6404</td>\n",
       "      <td>507</td>\n",
       "      <td>1788</td>\n",
       "      <td>1</td>\n",
       "      <td>0</td>\n",
       "      <td>0</td>\n",
       "      <td>0</td>\n",
       "      <td>1</td>\n",
       "    </tr>\n",
       "    <tr>\n",
       "      <th>4</th>\n",
       "      <td>22615</td>\n",
       "      <td>5410</td>\n",
       "      <td>7198</td>\n",
       "      <td>3915</td>\n",
       "      <td>1777</td>\n",
       "      <td>5185</td>\n",
       "      <td>0</td>\n",
       "      <td>1</td>\n",
       "      <td>0</td>\n",
       "      <td>0</td>\n",
       "      <td>1</td>\n",
       "    </tr>\n",
       "  </tbody>\n",
       "</table>\n",
       "</div>"
      ],
      "text/plain": [
       "   Fresh  Milk  Grocery  Frozen  Detergents_Paper  Delicassen  Channel_1  \\\n",
       "0  12669  9656     7561     214              2674        1338          0   \n",
       "1   7057  9810     9568    1762              3293        1776          0   \n",
       "2   6353  8808     7684    2405              3516        7844          0   \n",
       "3  13265  1196     4221    6404               507        1788          1   \n",
       "4  22615  5410     7198    3915              1777        5185          0   \n",
       "\n",
       "   Channel_2  Region_1  Region_2  Region_3  \n",
       "0          1         0         0         1  \n",
       "1          1         0         0         1  \n",
       "2          1         0         0         1  \n",
       "3          0         0         0         1  \n",
       "4          1         0         0         1  "
      ]
     },
     "execution_count": 6,
     "metadata": {},
     "output_type": "execute_result"
    }
   ],
   "source": [
    "#pd.get_dummies: one_hot encoding을 수행하는 함수, 문자를 숫자로 바꾸어 주는 방법 \n",
    "#가변수(dummy variable)로 만들어주는 것, 0(없다)과 1(있다)로만 이루어진 열을 생성\n",
    "for col in categorical_features:\n",
    "    dummies = pd.get_dummies(df[col], prefix=col)#명목형 데이터의 값을 새로운 컬럼으로 부여하여 가변수로서 활용\n",
    "    df = pd.concat([df, dummies], axis=1)\n",
    "    df.drop(col, axis=1, inplace=True)\n",
    "df.head()    "
   ]
  },
  {
   "cell_type": "code",
   "execution_count": 9,
   "id": "19ccc135-7837-4dd1-aa4a-76006e5b538b",
   "metadata": {},
   "outputs": [
    {
     "data": {
      "text/plain": [
       "array([[0.11294004, 0.13072723, 0.08146416, ..., 0.        , 0.        ,\n",
       "        1.        ],\n",
       "       [0.06289903, 0.13282409, 0.10309667, ..., 0.        , 0.        ,\n",
       "        1.        ],\n",
       "       [0.05662161, 0.11918086, 0.08278992, ..., 0.        , 0.        ,\n",
       "        1.        ],\n",
       "       ...,\n",
       "       [0.1295431 , 0.21013575, 0.32594285, ..., 0.        , 0.        ,\n",
       "        1.        ],\n",
       "       [0.091727  , 0.02622442, 0.02402535, ..., 0.        , 0.        ,\n",
       "        1.        ],\n",
       "       [0.02482434, 0.02237109, 0.02702178, ..., 0.        , 0.        ,\n",
       "        1.        ]])"
      ]
     },
     "execution_count": 9,
     "metadata": {},
     "output_type": "execute_result"
    }
   ],
   "source": [
    "#각 데이터별 숫자 범위가 다르므로 연속형 데이터의 모든 특성에 동일하게 중요성 부여하기 위해 스케일링 작업 시도\n",
    "mms = MinMaxScaler()\n",
    "mms.fit(df)\n",
    "df_transformed = mms.transform(df)\n",
    "df_transformed"
   ]
  },
  {
   "cell_type": "code",
   "execution_count": 10,
   "id": "32f5902c-bfd5-461b-8ecd-c36f3cc465dd",
   "metadata": {},
   "outputs": [],
   "source": [
    "Sum_of_squared_distances = []\n",
    "K = range(1, 15) #k값 1부터 15까지 적용해봄\n",
    "for k in K:\n",
    "    km = KMeans(n_clusters=k)\n",
    "    km = km.fit(df_transformed)\n",
    "    Sum_of_squared_distances.append(km.inertia_)\n",
    "    #km.inertia_: k_means clustering으로 계산된 sse값\n",
    "    #clustering 내 오차제곱합(SSE)    "
   ]
  },
  {
   "cell_type": "code",
   "execution_count": 11,
   "id": "43bf48e9-4b6f-43ff-bf52-706db89fa8d7",
   "metadata": {},
   "outputs": [
    {
     "data": {
      "image/png": "[encoded data removed]",
      "text/plain": [
       "<Figure size 432x288 with 1 Axes>"
      ]
     },
     "metadata": {
      "needs_background": "light"
     },
     "output_type": "display_data"
    }
   ],
   "source": [
    "#그래프 그리기\n",
    "plt.plot(K, Sum_of_squared_distances, 'bx-')\n",
    "plt.xlabel('K')\n",
    "plt.ylabel('Sum_of_squared_Error(SSE)')\n",
    "plt.title('Optimal k')\n",
    "plt.show()"
   ]
  }
 ],
 "metadata": {
  "kernelspec": {
   "display_name": "Python 3 (ipykernel)",
   "language": "python",
   "name": "python3"
  },
  "language_info": {
   "codemirror_mode": {
    "name": "ipython",
    "version": 3
   },
   "file_extension": ".py",
   "mimetype": "text/x-python",
   "name": "python",
   "nbconvert_exporter": "python",
   "pygments_lexer": "ipython3",
   "version": "3.7.11"
  }
 },
 "nbformat": 4,
 "nbformat_minor": 5
}
